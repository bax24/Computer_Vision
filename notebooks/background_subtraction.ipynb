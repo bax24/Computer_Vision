{
 "cells": [
  {
   "cell_type": "markdown",
   "id": "improving-commercial",
   "metadata": {},
   "source": [
    "## Imports"
   ]
  },
  {
   "cell_type": "code",
   "execution_count": 1,
   "id": "forced-marshall",
   "metadata": {},
   "outputs": [],
   "source": [
    "import numpy as np\n",
    "import os\n",
    "import cv2\n",
    "\n",
    "from collections import deque\n",
    "from matplotlib import pyplot as plt\n",
    "from PIL import ImageOps, ImageEnhance, Image\n",
    "from ipywidgets import interact\n",
    "from cytomine import Cytomine\n",
    "from cytomine.models import *"
   ]
  },
  {
   "cell_type": "markdown",
   "id": "elegant-vacation",
   "metadata": {},
   "source": [
    "## Cytomine connection parameters"
   ]
  },
  {
   "cell_type": "code",
   "execution_count": 2,
   "id": "disciplinary-lodging",
   "metadata": {},
   "outputs": [],
   "source": [
    "host = 'https://learn.cytomine.be'\n",
    "public_key = 'd42f0ab8-6c8a-4f0f-9002-dc1c8406b196'\n",
    "private_key = 'db6649ac-7463-4032-987a-eafb5f224ffd'"
   ]
  },
  {
   "cell_type": "markdown",
   "id": "soviet-landing",
   "metadata": {},
   "source": [
    "## Downloading the images"
   ]
  },
  {
   "cell_type": "code",
   "execution_count": 12,
   "id": "incomplete-prairie",
   "metadata": {},
   "outputs": [
    {
     "name": "stdout",
     "output_type": "stream",
     "text": [
      "[2021-10-13 16:12:11,117][INFO] [GET] [currentuser] CURRENT USER - 9873406 : s162782 | 200 OK\n",
      "[2021-10-13 16:12:11,139][INFO] [GET] [imageinstance collection] 1 objects | 200 OK\n",
      "[2021-10-13 16:12:39,563][INFO] File downloaded successfully from https://learn.cytomine.be/api/imageinstance/11208725/download with parameters {}\n"
     ]
    }
   ],
   "source": [
    "only_our_project = True\n",
    "project_id_group05 = 9874553 # This is the CV2021_GROUP05 IDs\n",
    "\n",
    "with Cytomine(host=host, public_key=public_key, private_key=private_key) as cytomine:\n",
    "\n",
    "    if only_our_project:\n",
    "        # Retrieve only the images we annotated ourselves\n",
    "        image_instances = ImageInstanceCollection().fetch_with_filter(\"project\", project_id_group05)\n",
    "        for image in image_instances:\n",
    "            path = os.path.join('../Images/Our_images/', str(project_id_group05), image.originalFilename)\n",
    "            image.download(path, override=False)\n",
    "    else:\n",
    "        # Retrieve all annotated images\n",
    "        projects = ProjectCollection().fetch()\n",
    "        for project in projects:\n",
    "            image_instances = ImageInstanceCollection().fetch_with_filter(\"project\", project.id)\n",
    "            for image in image_instances:\n",
    "                path = os.path.join('../Images/All_images/', str(project.id), image.originalFilename)\n",
    "                image.download(path, override=False)"
   ]
  },
  {
   "cell_type": "markdown",
   "id": "pressing-instrumentation",
   "metadata": {},
   "source": [
    "## Fetching sequence"
   ]
  },
  {
   "cell_type": "code",
   "execution_count": 4,
   "id": "static-saskatchewan",
   "metadata": {},
   "outputs": [],
   "source": [
    "video_path = 'dataset/raw/CV2021_GROUP05/group5.mp4'"
   ]
  },
  {
   "cell_type": "markdown",
   "id": "unlike-bearing",
   "metadata": {},
   "source": [
    "## Background subtraction : single reference frame method"
   ]
  },
  {
   "cell_type": "code",
   "execution_count": 5,
   "id": "wired-pennsylvania",
   "metadata": {
    "scrolled": true
   },
   "outputs": [
    {
     "ename": "error",
     "evalue": "OpenCV(4.5.4) /tmp/pip-req-build-9vck9bv0/opencv/modules/imgproc/src/color.cpp:182: error: (-215:Assertion failed) !_src.empty() in function 'cvtColor'\n",
     "output_type": "error",
     "traceback": [
      "\u001B[0;31m---------------------------------------------------------------------------\u001B[0m",
      "\u001B[0;31merror\u001B[0m                                     Traceback (most recent call last)",
      "\u001B[0;32m/tmp/ipykernel_24124/2534571135.py\u001B[0m in \u001B[0;36m<module>\u001B[0;34m\u001B[0m\n\u001B[1;32m      3\u001B[0m \u001B[0;31m# Simplest method : choose the first frame as background\u001B[0m\u001B[0;34m\u001B[0m\u001B[0;34m\u001B[0m\u001B[0m\n\u001B[1;32m      4\u001B[0m \u001B[0mret\u001B[0m\u001B[0;34m,\u001B[0m \u001B[0mimg\u001B[0m \u001B[0;34m=\u001B[0m \u001B[0mvideo\u001B[0m\u001B[0;34m.\u001B[0m\u001B[0mread\u001B[0m\u001B[0;34m(\u001B[0m\u001B[0;34m)\u001B[0m\u001B[0;34m\u001B[0m\u001B[0;34m\u001B[0m\u001B[0m\n\u001B[0;32m----> 5\u001B[0;31m \u001B[0mgray\u001B[0m \u001B[0;34m=\u001B[0m \u001B[0mcv2\u001B[0m\u001B[0;34m.\u001B[0m\u001B[0mcvtColor\u001B[0m\u001B[0;34m(\u001B[0m\u001B[0mimg\u001B[0m\u001B[0;34m,\u001B[0m \u001B[0mcv2\u001B[0m\u001B[0;34m.\u001B[0m\u001B[0mCOLOR_BGR2GRAY\u001B[0m\u001B[0;34m)\u001B[0m\u001B[0;34m\u001B[0m\u001B[0;34m\u001B[0m\u001B[0m\n\u001B[0m\u001B[1;32m      6\u001B[0m \u001B[0;31m# print(img.shape)\u001B[0m\u001B[0;34m\u001B[0m\u001B[0;34m\u001B[0m\u001B[0m\n\u001B[1;32m      7\u001B[0m \u001B[0;31m# print(gray.shape)\u001B[0m\u001B[0;34m\u001B[0m\u001B[0;34m\u001B[0m\u001B[0m\n",
      "\u001B[0;31merror\u001B[0m: OpenCV(4.5.4) /tmp/pip-req-build-9vck9bv0/opencv/modules/imgproc/src/color.cpp:182: error: (-215:Assertion failed) !_src.empty() in function 'cvtColor'\n"
     ]
    }
   ],
   "source": [
    "video = cv2.VideoCapture(video_path)\n",
    "\n",
    "# Simplest method : choose the first frame as background\n",
    "ret, img = video.read()\n",
    "gray = cv2.cvtColor(img, cv2.COLOR_BGR2GRAY)\n",
    "# print(img.shape)\n",
    "# print(gray.shape)\n",
    "background = gray.copy()\n",
    "threshold = 25\n",
    "\n",
    "while video.isOpened():\n",
    "    \n",
    "    ret, img = video.read()\n",
    "    \n",
    "    if not ret:\n",
    "        video.release()\n",
    "        cv2.destroyAllWindows()\n",
    "        break\n",
    "    \n",
    "    gray = cv2.cvtColor(img, cv2.COLOR_BGR2GRAY)\n",
    "    mask = np.abs(gray-background) > threshold\n",
    "    masked_gray = gray.copy()\n",
    "    np.putmask(masked_gray, np.logical_not(mask), 0.)\n",
    "    \n",
    "    # Displaying original sequence, mask and masked sequence\n",
    "    cv2.imshow('Sequence', gray)\n",
    "    cv2.imshow('Mask', mask.astype(float))\n",
    "    cv2.imshow('Masked sequence', masked_gray)\n",
    "\n",
    "    k = cv2.waitKey(0) & 0xff\n",
    "    if k == ord('q'): # Allows to close window when pressing the 'q' key\n",
    "        video.release()\n",
    "        cv2.destroyAllWindows()\n",
    "        break\n",
    "    \n",
    "\n"
   ]
  },
  {
   "cell_type": "markdown",
   "id": "textile-venezuela",
   "metadata": {},
   "source": [
    "## Defining filters"
   ]
  },
  {
   "cell_type": "code",
   "execution_count": 5,
   "id": "internal-irish",
   "metadata": {},
   "outputs": [],
   "source": [
    "def average_filter(kx, ky, img):\n",
    "    kernel = np.ones((ky, kx)) / (kx*ky)\n",
    "    avg_image = cv2.filter2D(img, -1, kernel)\n",
    "\n",
    "    return avg_image"
   ]
  },
  {
   "cell_type": "code",
   "execution_count": 6,
   "id": "indirect-sheriff",
   "metadata": {},
   "outputs": [],
   "source": [
    "def gaussian_filter(kx, ky, img):\n",
    "    kernel = (ky, kx)\n",
    "    gauss_image = cv2.GaussianBlur(img, kernel, 0)\n",
    "    \n",
    "    return gauss_image"
   ]
  },
  {
   "cell_type": "markdown",
   "id": "hourly-tragedy",
   "metadata": {},
   "source": [
    "## Background subtraction : exponential update of reference frame method"
   ]
  },
  {
   "cell_type": "code",
   "execution_count": 8,
   "id": "warming-meditation",
   "metadata": {},
   "outputs": [],
   "source": [
    "video = cv2.VideoCapture(video_path)\n",
    "\n",
    "# Extracting first frame\n",
    "ret, img = video.read()\n",
    "gray = cv2.cvtColor(img, cv2.COLOR_BGR2GRAY)\n",
    "# print(img.shape)\n",
    "# print(gray.shape)\n",
    "background = gray.copy()\n",
    "background = gaussian_filter(5,5,background)\n",
    "threshold = 25\n",
    "alpha = 0.05\n",
    "\n",
    "while video.isOpened():\n",
    "    \n",
    "    ret, img = video.read()\n",
    "    \n",
    "    if not ret:\n",
    "        video.release()\n",
    "        cv2.destroyAllWindows()\n",
    "        break\n",
    "    \n",
    "    gray = cv2.cvtColor(img, cv2.COLOR_BGR2GRAY)\n",
    "    gray = gaussian_filter(5,5,gray)\n",
    "    mask = np.abs(gray-background) > threshold\n",
    "    masked_gray = gray.copy()\n",
    "    np.putmask(masked_gray, np.logical_not(mask), 0.)\n",
    "    \n",
    "    # Displaying original sequence, mask and masked sequence\n",
    "    cv2.imshow('Sequence', gray)\n",
    "    cv2.imshow('Mask', mask.astype(float))\n",
    "    cv2.imshow('Masked sequence', masked_gray)\n",
    "    \n",
    "    background = alpha * gray + (1-alpha) * background\n",
    "\n",
    "    k = cv2.waitKey(0) & 0xff\n",
    "    if k == ord('q'): # Allows to close window when pressing the 'q' key\n",
    "        video.release()\n",
    "        cv2.destroyAllWindows()\n",
    "        break"
   ]
  },
  {
   "cell_type": "markdown",
   "id": "4cc39dd2",
   "metadata": {},
   "source": [
    "## Background subtraction : Median of last N frames"
   ]
  },
  {
   "cell_type": "code",
   "execution_count": 3,
   "id": "0f310a85",
   "metadata": {},
   "outputs": [
    {
     "ename": "NameError",
     "evalue": "name 'gaussian_filter' is not defined",
     "output_type": "error",
     "traceback": [
      "\u001B[1;31m---------------------------------------------------------------------------\u001B[0m",
      "\u001B[1;31mNameError\u001B[0m                                 Traceback (most recent call last)",
      "\u001B[1;32m<ipython-input-3-53e42728c948>\u001B[0m in \u001B[0;36m<module>\u001B[1;34m\u001B[0m\n\u001B[0;32m     25\u001B[0m \u001B[1;33m\u001B[0m\u001B[0m\n\u001B[0;32m     26\u001B[0m     \u001B[0mgray\u001B[0m \u001B[1;33m=\u001B[0m \u001B[0mcv2\u001B[0m\u001B[1;33m.\u001B[0m\u001B[0mcvtColor\u001B[0m\u001B[1;33m(\u001B[0m\u001B[0mimg\u001B[0m\u001B[1;33m,\u001B[0m \u001B[0mcv2\u001B[0m\u001B[1;33m.\u001B[0m\u001B[0mCOLOR_BGR2GRAY\u001B[0m\u001B[1;33m)\u001B[0m\u001B[1;33m\u001B[0m\u001B[1;33m\u001B[0m\u001B[0m\n\u001B[1;32m---> 27\u001B[1;33m     \u001B[0mgray\u001B[0m \u001B[1;33m=\u001B[0m \u001B[0mgaussian_filter\u001B[0m\u001B[1;33m(\u001B[0m\u001B[1;36m5\u001B[0m\u001B[1;33m,\u001B[0m\u001B[1;36m5\u001B[0m\u001B[1;33m,\u001B[0m\u001B[0mgray\u001B[0m\u001B[1;33m)\u001B[0m\u001B[1;33m\u001B[0m\u001B[1;33m\u001B[0m\u001B[0m\n\u001B[0m\u001B[0;32m     28\u001B[0m     \u001B[0mmask\u001B[0m \u001B[1;33m=\u001B[0m \u001B[0mnp\u001B[0m\u001B[1;33m.\u001B[0m\u001B[0mabs\u001B[0m\u001B[1;33m(\u001B[0m\u001B[0mgray\u001B[0m\u001B[1;33m-\u001B[0m\u001B[0mbackground\u001B[0m\u001B[1;33m)\u001B[0m \u001B[1;33m>\u001B[0m \u001B[0mthreshold\u001B[0m\u001B[1;33m\u001B[0m\u001B[1;33m\u001B[0m\u001B[0m\n\u001B[0;32m     29\u001B[0m     \u001B[0mmasked_gray\u001B[0m \u001B[1;33m=\u001B[0m \u001B[0mgray\u001B[0m\u001B[1;33m.\u001B[0m\u001B[0mcopy\u001B[0m\u001B[1;33m(\u001B[0m\u001B[1;33m)\u001B[0m\u001B[1;33m\u001B[0m\u001B[1;33m\u001B[0m\u001B[0m\n",
      "\u001B[1;31mNameError\u001B[0m: name 'gaussian_filter' is not defined"
     ]
    }
   ],
   "source": [
    "video = cv2.VideoCapture(video_path)\n",
    "\n",
    "# Extracting first frame\n",
    "ret, img = video.read()\n",
    "gray = cv2.cvtColor(img, cv2.COLOR_BGR2GRAY)\n",
    "# print(img.shape)\n",
    "# print(gray.shape)\n",
    "last_N_frames = deque()\n",
    "last_N_frames.append(gray)\n",
    "threshold = 25\n",
    "\n",
    "N = 10\n",
    "i = 0\n",
    "\n",
    "while video.isOpened():\n",
    "    \n",
    "    ret, img = video.read()\n",
    "    \n",
    "    if not ret:\n",
    "        video.release()\n",
    "        cv2.destroyAllWindows()\n",
    "        break\n",
    "    \n",
    "    background = np.median([frame for frame in last_N_frames], axis=0)\n",
    "    \n",
    "    gray = cv2.cvtColor(img, cv2.COLOR_BGR2GRAY)\n",
    "    gray = gaussian_filter(5,5,gray)\n",
    "    mask = np.abs(gray-background) > threshold\n",
    "    masked_gray = gray.copy()\n",
    "    np.putmask(masked_gray, np.logical_not(mask), 0.)\n",
    "    \n",
    "#     masked_gray = average_filter(3,3,masked_gray)\n",
    "    \n",
    "    # Displaying original sequence, mask and masked sequence\n",
    "    cv2.imshow('Sequence', gray)\n",
    "    cv2.imshow('Mask', mask.astype(float))\n",
    "    cv2.imshow('Masked sequence', masked_gray)\n",
    "    \n",
    "    if i >= N:\n",
    "        last_N_frames.popleft()\n",
    "    last_N_frames.append(gray)\n",
    "    i += 1\n",
    "\n",
    "    k = cv2.waitKey(0) & 0xff\n",
    "    if k == ord('q'): # Allows to close window when pressing the 'q' key\n",
    "        video.release()\n",
    "        cv2.destroyAllWindows()\n",
    "        break"
   ]
  },
  {
   "cell_type": "code",
   "execution_count": null,
   "id": "chubby-disabled",
   "metadata": {},
   "outputs": [],
   "source": [
    "def display_video(path):\n",
    "    cap = cv2.VideoCapture(path)\n",
    "    if not cap.isOpened():\n",
    "        print(\"Error while opening file! \\n\")\n",
    "\n",
    "    prev = 0\n",
    "    while cap.isOpened():\n",
    "        time_elapsed = time.time() - prev\n",
    "        if time_elapsed <= 1. / FRAME_RATE:\n",
    "            continue\n",
    "\n",
    "        prev = time.time()\n",
    "        ret, frame = cap.read()\n",
    "        if ret:\n",
    "            cv2.imshow(\"Frame\", frame)\n",
    "            if cv2.waitKey(25) & 0xFF == ord('q'):\n",
    "                break\n",
    "        else:\n",
    "            break\n",
    "\n",
    "    cap.release()\n",
    "    cv2.destroyAllWindows()\n"
   ]
  }
 ],
 "metadata": {
  "kernelspec": {
   "display_name": "Python 3 (ipykernel)",
   "language": "python",
   "name": "python3"
  },
  "language_info": {
   "codemirror_mode": {
    "name": "ipython",
    "version": 3
   },
   "file_extension": ".py",
   "mimetype": "text/x-python",
   "name": "python",
   "nbconvert_exporter": "python",
   "pygments_lexer": "ipython3",
   "version": "3.9.7"
  }
 },
 "nbformat": 4,
 "nbformat_minor": 5
}